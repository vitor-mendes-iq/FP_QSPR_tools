{
 "cells": [
  {
   "cell_type": "markdown",
   "metadata": {
    "ExecuteTime": {
     "end_time": "2021-03-10T15:12:50.636404Z",
     "start_time": "2021-03-10T15:12:50.633412Z"
    }
   },
   "source": [
    "# Finger Print Analyze by Smile data"
   ]
  },
  {
   "cell_type": "code",
   "execution_count": 1,
   "metadata": {
    "ExecuteTime": {
     "end_time": "2021-03-10T21:01:35.986888Z",
     "start_time": "2021-03-10T21:01:34.500112Z"
    }
   },
   "outputs": [],
   "source": [
    "# Library\n",
    "import numpy as np\n",
    "import pandas as pd\n",
    "from pyADA import Smetrics\n",
    "from rdkit import Chem\n",
    "from rdkit.Chem import AllChem\n",
    "from rdkit.Chem import DataStructs\n",
    "from sklearn.model_selection import train_test_split\n",
    "from sklearn.ensemble import RandomForestRegressor\n",
    "import matplotlib.pyplot as plt"
   ]
  },
  {
   "cell_type": "code",
   "execution_count": 2,
   "metadata": {
    "ExecuteTime": {
     "end_time": "2021-03-10T21:01:36.978202Z",
     "start_time": "2021-03-10T21:01:36.960250Z"
    }
   },
   "outputs": [
    {
     "data": {
      "text/html": [
       "<div>\n",
       "<style scoped>\n",
       "    .dataframe tbody tr th:only-of-type {\n",
       "        vertical-align: middle;\n",
       "    }\n",
       "\n",
       "    .dataframe tbody tr th {\n",
       "        vertical-align: top;\n",
       "    }\n",
       "\n",
       "    .dataframe thead th {\n",
       "        text-align: right;\n",
       "    }\n",
       "</style>\n",
       "<table border=\"1\" class=\"dataframe\">\n",
       "  <thead>\n",
       "    <tr style=\"text-align: right;\">\n",
       "      <th></th>\n",
       "      <th>names</th>\n",
       "      <th>smiles</th>\n",
       "      <th>kOH</th>\n",
       "    </tr>\n",
       "  </thead>\n",
       "  <tbody>\n",
       "    <tr>\n",
       "      <th>0</th>\n",
       "      <td>5-Methylfuran-2-carbaldehyde</td>\n",
       "      <td>Cc1oc(C=O)cc1</td>\n",
       "      <td>7.200000e+09</td>\n",
       "    </tr>\n",
       "    <tr>\n",
       "      <th>1</th>\n",
       "      <td>(2,2-dimethyl-3H-1-benzofuran-7-yl) N-methylca...</td>\n",
       "      <td>CNC(=O)Oc1cccc2CC(C)(C)Oc12</td>\n",
       "      <td>3.200000e+09</td>\n",
       "    </tr>\n",
       "    <tr>\n",
       "      <th>2</th>\n",
       "      <td>(2S,5R,6R)-3,3-dimethyl-7-oxo-6-[(2-phenylacet...</td>\n",
       "      <td>CC1(C)S[C@@H]2[C@H](NC(=O)Cc3ccccc3)C(=O)N2[C@...</td>\n",
       "      <td>7.940000e+09</td>\n",
       "    </tr>\n",
       "    <tr>\n",
       "      <th>3</th>\n",
       "      <td>2,2,2-TRIFLUOROETHANOL</td>\n",
       "      <td>OCC(F)(F)F</td>\n",
       "      <td>2.300000e+08</td>\n",
       "    </tr>\n",
       "    <tr>\n",
       "      <th>4</th>\n",
       "      <td>N'-ethyl-6-methylsulfanyl-N-propan-2-yl-1,3,5-...</td>\n",
       "      <td>CCNc1nc(NC(C)C)nc(SC)n1</td>\n",
       "      <td>2.600000e+10</td>\n",
       "    </tr>\n",
       "  </tbody>\n",
       "</table>\n",
       "</div>"
      ],
      "text/plain": [
       "                                               names  \\\n",
       "0                       5-Methylfuran-2-carbaldehyde   \n",
       "1  (2,2-dimethyl-3H-1-benzofuran-7-yl) N-methylca...   \n",
       "2  (2S,5R,6R)-3,3-dimethyl-7-oxo-6-[(2-phenylacet...   \n",
       "3                             2,2,2-TRIFLUOROETHANOL   \n",
       "4  N'-ethyl-6-methylsulfanyl-N-propan-2-yl-1,3,5-...   \n",
       "\n",
       "                                              smiles           kOH  \n",
       "0                                      Cc1oc(C=O)cc1  7.200000e+09  \n",
       "1                        CNC(=O)Oc1cccc2CC(C)(C)Oc12  3.200000e+09  \n",
       "2  CC1(C)S[C@@H]2[C@H](NC(=O)Cc3ccccc3)C(=O)N2[C@...  7.940000e+09  \n",
       "3                                         OCC(F)(F)F  2.300000e+08  \n",
       "4                            CCNc1nc(NC(C)C)nc(SC)n1  2.600000e+10  "
      ]
     },
     "execution_count": 2,
     "metadata": {},
     "output_type": "execute_result"
    }
   ],
   "source": [
    "# Import data\n",
    "data = pd.read_csv('Dados_Tratados_Full_kOH.csv')\n",
    "data = data.drop(['Unnamed: 0'], axis=1)\n",
    "data.head()"
   ]
  },
  {
   "cell_type": "code",
   "execution_count": 3,
   "metadata": {
    "ExecuteTime": {
     "end_time": "2021-03-10T21:01:40.524250Z",
     "start_time": "2021-03-10T21:01:40.521256Z"
    }
   },
   "outputs": [],
   "source": [
    "smiles = data.iloc[:,1]"
   ]
  },
  {
   "cell_type": "code",
   "execution_count": 4,
   "metadata": {
    "ExecuteTime": {
     "end_time": "2021-03-10T21:01:43.994577Z",
     "start_time": "2021-03-10T21:01:42.208354Z"
    },
    "scrolled": true
   },
   "outputs": [
    {
     "data": {
      "text/plain": [
       "matrix([[0, 0, 0, ..., 1, 1, 0],\n",
       "        [0, 0, 0, ..., 0, 0, 1],\n",
       "        [0, 1, 0, ..., 1, 1, 1],\n",
       "        ...,\n",
       "        [0, 0, 0, ..., 0, 1, 0],\n",
       "        [0, 0, 0, ..., 0, 1, 0],\n",
       "        [0, 0, 0, ..., 0, 0, 0]])"
      ]
     },
     "execution_count": 4,
     "metadata": {},
     "output_type": "execute_result"
    }
   ],
   "source": [
    "# Topological finger prints\n",
    "ms = [Chem.MolFromSmiles(s) for s in smiles]\n",
    "fps = [Chem.RDKFingerprint(x) for x in ms]\n",
    "fps_top = []\n",
    "for fp in fps:\n",
    "    fps_top.append([m for m in fp])\n",
    "fps_top = np.asmatrix(fps_top)\n",
    "fps_top"
   ]
  },
  {
   "cell_type": "code",
   "execution_count": 5,
   "metadata": {
    "ExecuteTime": {
     "end_time": "2021-03-10T21:01:47.855312Z",
     "start_time": "2021-03-10T21:01:46.954722Z"
    }
   },
   "outputs": [
    {
     "data": {
      "text/plain": [
       "matrix([[0, 0, 0, ..., 1, 1, 0],\n",
       "        [0, 0, 0, ..., 1, 1, 0],\n",
       "        [0, 0, 0, ..., 1, 1, 0],\n",
       "        ...,\n",
       "        [0, 0, 0, ..., 0, 0, 0],\n",
       "        [0, 0, 0, ..., 0, 0, 0],\n",
       "        [0, 0, 0, ..., 0, 0, 0]])"
      ]
     },
     "execution_count": 5,
     "metadata": {},
     "output_type": "execute_result"
    }
   ],
   "source": [
    "# MACCS Keys finger print\n",
    "from rdkit.Chem import MACCSkeys\n",
    "fps = [MACCSkeys.GenMACCSKeys(x) for x in ms]\n",
    "fps_MACCS = []\n",
    "for fp in fps:\n",
    "    fps_MACCS.append([m for m in fp])\n",
    "fps_MACCS = np.asmatrix(fps_MACCS)\n",
    "fps_MACCS"
   ]
  },
  {
   "cell_type": "code",
   "execution_count": 6,
   "metadata": {
    "ExecuteTime": {
     "end_time": "2021-03-10T21:01:52.517709Z",
     "start_time": "2021-03-10T21:01:51.838525Z"
    }
   },
   "outputs": [
    {
     "data": {
      "text/plain": [
       "matrix([[0, 0, 0, ..., 0, 0, 0],\n",
       "        [0, 0, 0, ..., 0, 0, 0],\n",
       "        [0, 0, 0, ..., 0, 0, 0],\n",
       "        ...,\n",
       "        [0, 0, 0, ..., 0, 0, 0],\n",
       "        [0, 0, 0, ..., 0, 0, 0],\n",
       "        [0, 1, 0, ..., 0, 0, 0]])"
      ]
     },
     "execution_count": 6,
     "metadata": {},
     "output_type": "execute_result"
    }
   ],
   "source": [
    "# Morgan finger print\n",
    "bi = {}\n",
    "fps = [AllChem.GetMorganFingerprintAsBitVect(j, 2, bitInfo=bi, nBits=1024) for j in ms]\n",
    "fps_Morgan = []\n",
    "for fp in fps:\n",
    "    fps_Morgan.append([m for m in fp])\n",
    "fps_Morgan = np.asmatrix(fps_Morgan)\n",
    "fps_Morgan"
   ]
  },
  {
   "cell_type": "code",
   "execution_count": 7,
   "metadata": {
    "ExecuteTime": {
     "end_time": "2021-03-10T21:01:54.843444Z",
     "start_time": "2021-03-10T21:01:54.826489Z"
    }
   },
   "outputs": [
    {
     "data": {
      "text/plain": [
       "(1374, 1027)"
      ]
     },
     "execution_count": 7,
     "metadata": {},
     "output_type": "execute_result"
    }
   ],
   "source": [
    "# Data frame Morgan FP\n",
    "df_fp = pd.DataFrame(fps_Morgan)\n",
    "data_Morgan = pd.concat([data, df_fp], axis=1)\n",
    "data_Morgan.shape"
   ]
  },
  {
   "cell_type": "code",
   "execution_count": 8,
   "metadata": {
    "ExecuteTime": {
     "end_time": "2021-03-10T21:02:02.448888Z",
     "start_time": "2021-03-10T21:02:02.424975Z"
    }
   },
   "outputs": [
    {
     "data": {
      "image/svg+xml": [
       "<svg xmlns=\"http://www.w3.org/2000/svg\" xmlns:rdkit=\"http://www.rdkit.org/xml\" xmlns:xlink=\"http://www.w3.org/1999/xlink\" version=\"1.1\" baseProfile=\"full\" xml:space=\"preserve\" width=\"150px\" height=\"150px\" viewBox=\"0 0 150 150\">\n",
       "<!-- END OF HEADER -->\n",
       "<rect style=\"opacity:1.0;fill:#FFFFFF;stroke:none\" width=\"150\" height=\"150\" x=\"0\" y=\"0\"> </rect>\n",
       "<ellipse cx=\"90.2847\" cy=\"130.725\" rx=\"12.4565\" ry=\"12.4565\" style=\"fill:#9999E5;fill-rule:evenodd;stroke:#9999E5;stroke-width:2px;stroke-linecap:butt;stroke-linejoin:miter;stroke-opacity:1\"/>\n",
       "<ellipse cx=\"73.2158\" cy=\"70.8272\" rx=\"12.4565\" ry=\"12.4565\" style=\"fill:#CCCCCC;fill-rule:evenodd;stroke:#CCCCCC;stroke-width:2px;stroke-linecap:butt;stroke-linejoin:miter;stroke-opacity:1\"/>\n",
       "<path class=\"bond-0\" d=\"M 90.2847,130.725 L 73.2158,70.8272\" style=\"fill:none;fill-rule:evenodd;stroke:#000000;stroke-width:2.0px;stroke-linecap:butt;stroke-linejoin:miter;stroke-opacity:1\"/>\n",
       "<path class=\"bond-1\" d=\"M 73.2158,70.8272 L 21.1601,91.7595\" style=\"fill:none;fill-rule:evenodd;stroke:#E5E5E5;stroke-width:3.3px;stroke-linecap:butt;stroke-linejoin:miter;stroke-opacity:1\"/>\n",
       "<path class=\"bond-2\" d=\"M 73.2158,70.8272 L 130.789,60.7731\" style=\"fill:none;fill-rule:evenodd;stroke:#E5E5E5;stroke-width:3.3px;stroke-linecap:butt;stroke-linejoin:miter;stroke-opacity:1\"/>\n",
       "<path class=\"bond-3\" d=\"M 53.0197,34.0232 L 54.1205,33.4402\" style=\"fill:none;fill-rule:evenodd;stroke:#E5E5E5;stroke-width:1.0px;stroke-linecap:butt;stroke-linejoin:miter;stroke-opacity:1\"/>\n",
       "<path class=\"bond-3\" d=\"M 56.3984,41.7338 L 58.6,40.5678\" style=\"fill:none;fill-rule:evenodd;stroke:#E5E5E5;stroke-width:1.0px;stroke-linecap:butt;stroke-linejoin:miter;stroke-opacity:1\"/>\n",
       "<path class=\"bond-3\" d=\"M 59.7772,49.4444 L 63.0796,47.6955\" style=\"fill:none;fill-rule:evenodd;stroke:#E5E5E5;stroke-width:1.0px;stroke-linecap:butt;stroke-linejoin:miter;stroke-opacity:1\"/>\n",
       "<path class=\"bond-3\" d=\"M 63.1559,57.155 L 67.5591,54.8231\" style=\"fill:none;fill-rule:evenodd;stroke:#E5E5E5;stroke-width:1.0px;stroke-linecap:butt;stroke-linejoin:miter;stroke-opacity:1\"/>\n",
       "<path class=\"bond-3\" d=\"M 66.5347,64.8656 L 72.0387,61.9507\" style=\"fill:none;fill-rule:evenodd;stroke:#E5E5E5;stroke-width:1.0px;stroke-linecap:butt;stroke-linejoin:miter;stroke-opacity:1\"/>\n",
       "<path class=\"bond-3\" d=\"M 69.9134,72.5762 L 76.5182,69.0783\" style=\"fill:none;fill-rule:evenodd;stroke:#E5E5E5;stroke-width:1.0px;stroke-linecap:butt;stroke-linejoin:miter;stroke-opacity:1\"/>\n",
       "<path class=\"atom-2\" d=\"M 12.1042 92.0955 L 14.6951 89.4547 L 11.2571 88.7571 L 11.7803 86.9883 L 14.9443 88.5827 L 14.4958 85.1198 L 16.3643 85.0949 L 15.8411 88.5578 L 19.0549 87.063 L 19.603 88.7571 L 16.1152 89.4049 L 18.6065 92.0706 L 17.0868 93.1667 L 15.3678 89.8782 L 13.6239 93.1667 L 12.1042 92.0955 \" fill=\"#191919\"/>\n",
       "<path class=\"atom-3\" d=\"M 131.244 58.1448 L 133.835 55.504 L 130.397 54.8065 L 130.92 53.0376 L 134.084 54.6321 L 133.636 51.1692 L 135.504 51.1442 L 134.981 54.6072 L 138.195 53.1124 L 138.743 54.8065 L 135.255 55.4542 L 137.746 58.1199 L 136.227 59.2161 L 134.508 55.9276 L 132.764 59.2161 L 131.244 58.1448 \" fill=\"#191919\"/>\n",
       "<path class=\"atom-4\" d=\"M 27.5491 13.8187 L 30.1401 11.178 L 26.7021 10.4804 L 27.2252 8.71157 L 30.3892 10.306 L 29.9408 6.84309 L 31.8092 6.81818 L 31.2861 10.2811 L 34.4999 8.78631 L 35.0479 10.4804 L 31.5601 11.1281 L 34.0514 13.7938 L 32.5317 14.89 L 30.8127 11.6015 L 29.0688 14.89 L 27.5491 13.8187 \" fill=\"#191919\"/>\n",
       "<path class=\"atom-4\" d=\"M 37.1656 7.11714 L 39.5572 7.11714 L 39.5572 14.616 L 48.5757 14.616 L 48.5757 7.11714 L 50.9674 7.11714 L 50.9674 24.7556 L 48.5757 24.7556 L 48.5757 16.609 L 39.5572 16.609 L 39.5572 24.7556 L 37.1656 24.7556 L 37.1656 7.11714 \" fill=\"#191919\"/>\n",
       "</svg>"
      ],
      "text/plain": [
       "<IPython.core.display.SVG object>"
      ]
     },
     "execution_count": 8,
     "metadata": {},
     "output_type": "execute_result"
    }
   ],
   "source": [
    "from rdkit.Chem import Draw\n",
    "frag = Draw.DrawMorganBit(ms[2], 272, bi, useSVG=True)\n",
    "frag"
   ]
  },
  {
   "cell_type": "code",
   "execution_count": 10,
   "metadata": {
    "ExecuteTime": {
     "end_time": "2021-03-10T21:02:56.044979Z",
     "start_time": "2021-03-10T21:02:56.029023Z"
    }
   },
   "outputs": [
    {
     "data": {
      "text/html": [
       "<div>\n",
       "<style scoped>\n",
       "    .dataframe tbody tr th:only-of-type {\n",
       "        vertical-align: middle;\n",
       "    }\n",
       "\n",
       "    .dataframe tbody tr th {\n",
       "        vertical-align: top;\n",
       "    }\n",
       "\n",
       "    .dataframe thead th {\n",
       "        text-align: right;\n",
       "    }\n",
       "</style>\n",
       "<table border=\"1\" class=\"dataframe\">\n",
       "  <thead>\n",
       "    <tr style=\"text-align: right;\">\n",
       "      <th></th>\n",
       "      <th>names</th>\n",
       "      <th>smiles</th>\n",
       "      <th>kOH</th>\n",
       "      <th>0</th>\n",
       "      <th>1</th>\n",
       "      <th>2</th>\n",
       "      <th>3</th>\n",
       "      <th>4</th>\n",
       "      <th>5</th>\n",
       "      <th>6</th>\n",
       "      <th>...</th>\n",
       "      <th>1014</th>\n",
       "      <th>1015</th>\n",
       "      <th>1016</th>\n",
       "      <th>1017</th>\n",
       "      <th>1018</th>\n",
       "      <th>1019</th>\n",
       "      <th>1020</th>\n",
       "      <th>1021</th>\n",
       "      <th>1022</th>\n",
       "      <th>1023</th>\n",
       "    </tr>\n",
       "  </thead>\n",
       "  <tbody>\n",
       "    <tr>\n",
       "      <th>0</th>\n",
       "      <td>5-Methylfuran-2-carbaldehyde</td>\n",
       "      <td>Cc1oc(C=O)cc1</td>\n",
       "      <td>22.697347</td>\n",
       "      <td>0</td>\n",
       "      <td>0</td>\n",
       "      <td>0</td>\n",
       "      <td>0</td>\n",
       "      <td>0</td>\n",
       "      <td>0</td>\n",
       "      <td>0</td>\n",
       "      <td>...</td>\n",
       "      <td>0</td>\n",
       "      <td>0</td>\n",
       "      <td>0</td>\n",
       "      <td>0</td>\n",
       "      <td>0</td>\n",
       "      <td>0</td>\n",
       "      <td>0</td>\n",
       "      <td>0</td>\n",
       "      <td>0</td>\n",
       "      <td>0</td>\n",
       "    </tr>\n",
       "    <tr>\n",
       "      <th>1</th>\n",
       "      <td>(2,2-dimethyl-3H-1-benzofuran-7-yl) N-methylca...</td>\n",
       "      <td>CNC(=O)Oc1cccc2CC(C)(C)Oc12</td>\n",
       "      <td>21.886417</td>\n",
       "      <td>0</td>\n",
       "      <td>0</td>\n",
       "      <td>0</td>\n",
       "      <td>0</td>\n",
       "      <td>0</td>\n",
       "      <td>0</td>\n",
       "      <td>0</td>\n",
       "      <td>...</td>\n",
       "      <td>0</td>\n",
       "      <td>0</td>\n",
       "      <td>0</td>\n",
       "      <td>0</td>\n",
       "      <td>0</td>\n",
       "      <td>0</td>\n",
       "      <td>0</td>\n",
       "      <td>0</td>\n",
       "      <td>0</td>\n",
       "      <td>0</td>\n",
       "    </tr>\n",
       "    <tr>\n",
       "      <th>2</th>\n",
       "      <td>(2S,5R,6R)-3,3-dimethyl-7-oxo-6-[(2-phenylacet...</td>\n",
       "      <td>CC1(C)S[C@@H]2[C@H](NC(=O)Cc3ccccc3)C(=O)N2[C@...</td>\n",
       "      <td>22.795179</td>\n",
       "      <td>0</td>\n",
       "      <td>0</td>\n",
       "      <td>0</td>\n",
       "      <td>0</td>\n",
       "      <td>0</td>\n",
       "      <td>1</td>\n",
       "      <td>0</td>\n",
       "      <td>...</td>\n",
       "      <td>0</td>\n",
       "      <td>0</td>\n",
       "      <td>0</td>\n",
       "      <td>0</td>\n",
       "      <td>0</td>\n",
       "      <td>1</td>\n",
       "      <td>0</td>\n",
       "      <td>0</td>\n",
       "      <td>0</td>\n",
       "      <td>0</td>\n",
       "    </tr>\n",
       "    <tr>\n",
       "      <th>3</th>\n",
       "      <td>2,2,2-TRIFLUOROETHANOL</td>\n",
       "      <td>OCC(F)(F)F</td>\n",
       "      <td>19.253590</td>\n",
       "      <td>0</td>\n",
       "      <td>0</td>\n",
       "      <td>0</td>\n",
       "      <td>0</td>\n",
       "      <td>0</td>\n",
       "      <td>0</td>\n",
       "      <td>0</td>\n",
       "      <td>...</td>\n",
       "      <td>0</td>\n",
       "      <td>0</td>\n",
       "      <td>0</td>\n",
       "      <td>0</td>\n",
       "      <td>0</td>\n",
       "      <td>0</td>\n",
       "      <td>0</td>\n",
       "      <td>0</td>\n",
       "      <td>0</td>\n",
       "      <td>0</td>\n",
       "    </tr>\n",
       "    <tr>\n",
       "      <th>4</th>\n",
       "      <td>N'-ethyl-6-methylsulfanyl-N-propan-2-yl-1,3,5-...</td>\n",
       "      <td>CCNc1nc(NC(C)C)nc(SC)n1</td>\n",
       "      <td>23.981362</td>\n",
       "      <td>0</td>\n",
       "      <td>1</td>\n",
       "      <td>0</td>\n",
       "      <td>0</td>\n",
       "      <td>1</td>\n",
       "      <td>0</td>\n",
       "      <td>0</td>\n",
       "      <td>...</td>\n",
       "      <td>0</td>\n",
       "      <td>0</td>\n",
       "      <td>0</td>\n",
       "      <td>0</td>\n",
       "      <td>0</td>\n",
       "      <td>0</td>\n",
       "      <td>0</td>\n",
       "      <td>0</td>\n",
       "      <td>0</td>\n",
       "      <td>0</td>\n",
       "    </tr>\n",
       "  </tbody>\n",
       "</table>\n",
       "<p>5 rows × 1027 columns</p>\n",
       "</div>"
      ],
      "text/plain": [
       "                                               names  \\\n",
       "0                       5-Methylfuran-2-carbaldehyde   \n",
       "1  (2,2-dimethyl-3H-1-benzofuran-7-yl) N-methylca...   \n",
       "2  (2S,5R,6R)-3,3-dimethyl-7-oxo-6-[(2-phenylacet...   \n",
       "3                             2,2,2-TRIFLUOROETHANOL   \n",
       "4  N'-ethyl-6-methylsulfanyl-N-propan-2-yl-1,3,5-...   \n",
       "\n",
       "                                              smiles        kOH  0  1  2  3  \\\n",
       "0                                      Cc1oc(C=O)cc1  22.697347  0  0  0  0   \n",
       "1                        CNC(=O)Oc1cccc2CC(C)(C)Oc12  21.886417  0  0  0  0   \n",
       "2  CC1(C)S[C@@H]2[C@H](NC(=O)Cc3ccccc3)C(=O)N2[C@...  22.795179  0  0  0  0   \n",
       "3                                         OCC(F)(F)F  19.253590  0  0  0  0   \n",
       "4                            CCNc1nc(NC(C)C)nc(SC)n1  23.981362  0  1  0  0   \n",
       "\n",
       "   4  5  6  ...  1014  1015  1016  1017  1018  1019  1020  1021  1022  1023  \n",
       "0  0  0  0  ...     0     0     0     0     0     0     0     0     0     0  \n",
       "1  0  0  0  ...     0     0     0     0     0     0     0     0     0     0  \n",
       "2  0  1  0  ...     0     0     0     0     0     1     0     0     0     0  \n",
       "3  0  0  0  ...     0     0     0     0     0     0     0     0     0     0  \n",
       "4  1  0  0  ...     0     0     0     0     0     0     0     0     0     0  \n",
       "\n",
       "[5 rows x 1027 columns]"
      ]
     },
     "execution_count": 10,
     "metadata": {},
     "output_type": "execute_result"
    }
   ],
   "source": [
    "# Log scale\n",
    "data2 = data_Morgan\n",
    "Scale = Smetrics()\n",
    "data2['kOH'] = Scale.rescale_ln(data2['kOH'].values)\n",
    "data2.head()\n"
   ]
  },
  {
   "cell_type": "code",
   "execution_count": 11,
   "metadata": {
    "ExecuteTime": {
     "end_time": "2021-03-10T21:03:02.212636Z",
     "start_time": "2021-03-10T21:03:02.052045Z"
    }
   },
   "outputs": [],
   "source": [
    "# Save DF in .csv\n",
    "data2.to_csv('KOH_FP_Morgan.csv')"
   ]
  },
  {
   "cell_type": "markdown",
   "metadata": {},
   "source": [
    "## ML Methods"
   ]
  },
  {
   "cell_type": "code",
   "execution_count": 12,
   "metadata": {
    "ExecuteTime": {
     "end_time": "2021-03-10T21:03:08.052935Z",
     "start_time": "2021-03-10T21:03:08.044955Z"
    }
   },
   "outputs": [
    {
     "data": {
      "text/plain": [
       "array([[0, 0, 0, ..., 0, 0, 0],\n",
       "       [0, 0, 0, ..., 0, 0, 0],\n",
       "       [0, 0, 0, ..., 0, 0, 0],\n",
       "       ...,\n",
       "       [0, 0, 0, ..., 0, 0, 0],\n",
       "       [0, 0, 0, ..., 0, 0, 0],\n",
       "       [0, 1, 0, ..., 0, 0, 0]])"
      ]
     },
     "execution_count": 12,
     "metadata": {},
     "output_type": "execute_result"
    }
   ],
   "source": [
    "# predictor and Class\n",
    "preditores = data2.iloc[:,3:].values\n",
    "classe = data2.iloc[:,2].values\n",
    "preditores"
   ]
  },
  {
   "cell_type": "code",
   "execution_count": 13,
   "metadata": {
    "ExecuteTime": {
     "end_time": "2021-03-10T21:03:11.718244Z",
     "start_time": "2021-03-10T21:03:11.701288Z"
    }
   },
   "outputs": [],
   "source": [
    "# Split train and test\n",
    "X_train, X_test, y_train, y_test = train_test_split(preditores, classe, test_size=0.33, random_state=131)"
   ]
  },
  {
   "cell_type": "markdown",
   "metadata": {},
   "source": [
    "### RandomForest Regressor"
   ]
  },
  {
   "cell_type": "code",
   "execution_count": 14,
   "metadata": {
    "ExecuteTime": {
     "end_time": "2021-03-10T21:03:14.519711Z",
     "start_time": "2021-03-10T21:03:14.516719Z"
    }
   },
   "outputs": [],
   "source": [
    "random_forest = RandomForestRegressor() "
   ]
  },
  {
   "cell_type": "code",
   "execution_count": 15,
   "metadata": {
    "ExecuteTime": {
     "end_time": "2021-03-10T21:03:21.529342Z",
     "start_time": "2021-03-10T21:03:16.788996Z"
    },
    "collapsed": true
   },
   "outputs": [
    {
     "data": {
      "text/plain": [
       "array([22.92259126, 21.15607412, 22.4775466 , 22.42762226, 23.16373952,\n",
       "       22.76334728, 19.75921035, 22.3956744 , 22.51748085, 23.37996391,\n",
       "       21.97960907, 21.18173392, 22.30249   , 21.42234871, 21.35495871,\n",
       "       21.63342405, 22.56239452, 22.70466744, 21.27145679, 19.69833253,\n",
       "       22.06039291, 22.43118715, 20.63022205, 20.77191125, 21.52088638,\n",
       "       22.89977685, 21.90253678, 22.2132607 , 19.22640072, 22.16571843,\n",
       "       22.29596904, 22.11881509, 21.17175324, 22.62498303, 21.1964952 ,\n",
       "       19.78733865, 22.93367907, 19.75951289, 21.31914847, 23.01693189,\n",
       "       22.48875141, 19.09687847, 22.16987421, 22.50251585, 22.64163102,\n",
       "       21.46331217, 22.8448644 , 22.60022035, 17.81523196, 20.79810975,\n",
       "       22.44497797, 22.61557963, 21.40133413, 22.16804995, 22.50242892,\n",
       "       22.55971601, 22.50156922, 22.5690031 , 23.20568178, 19.57319772,\n",
       "       21.04082699, 22.50924218, 22.70777657, 21.28074471, 22.51949556,\n",
       "       22.1133585 , 22.84307991, 22.61820999, 20.93547921, 21.7236998 ,\n",
       "       22.79897272, 22.28328969, 22.00405918, 22.71409696, 22.29547272,\n",
       "       19.36241728, 20.65862451, 20.77191125, 21.17376284, 22.35727532,\n",
       "       20.97196227, 21.86785773, 18.43284567, 21.77100325, 23.20016466,\n",
       "       22.48058554, 22.3217898 , 22.52714192, 20.97708505, 21.63084612,\n",
       "       18.2535181 , 20.22818521, 23.42383614, 23.4148787 , 22.65113577,\n",
       "       22.87444159, 21.68308718, 21.33070432, 22.70562077, 20.82305379,\n",
       "       19.17079691, 22.91568445, 22.17239114, 21.51055405, 22.12290991,\n",
       "       21.34678466, 22.53034904, 22.51949556, 18.60688226, 20.12507028,\n",
       "       18.37633634, 22.24232545, 22.72466819, 18.95225503, 22.3217898 ,\n",
       "       21.10769776, 23.07999507, 21.30401559, 21.78477068, 22.90748961,\n",
       "       22.93462684, 21.36453118, 22.13477179, 22.02719518, 22.49417177,\n",
       "       21.75114259, 22.65485418, 22.21876164, 22.22291431, 22.43118715,\n",
       "       21.98385004, 21.69185094, 22.65053672, 22.95954223, 22.19592228,\n",
       "       23.07247097, 18.14099851, 21.43851944, 22.59029022, 21.83018911,\n",
       "       23.02436273, 22.04152622, 21.18467652, 20.27660978, 21.7953369 ,\n",
       "       19.47741167, 22.93833425, 19.68626807, 17.31523971, 22.80946579,\n",
       "       22.33508564, 22.53034904, 22.43573184, 22.40600147, 22.52769473,\n",
       "       23.29711553, 22.59470377, 22.540532  , 22.24000161, 19.47500744,\n",
       "       23.42760481, 18.20804848, 22.55421058, 20.04570997, 21.1964952 ,\n",
       "       22.48488946, 19.65667741, 22.61853578, 21.82633347, 22.81168942,\n",
       "       22.60456504, 20.41608138, 23.3677877 , 21.7081584 , 22.55738836,\n",
       "       21.36180341, 21.41526537, 22.58255042, 22.28439028, 22.66376275,\n",
       "       22.19328531, 21.42691551, 20.04643641, 22.15515334, 21.69407184,\n",
       "       18.10555764, 19.36241728, 22.01257794, 21.54241093, 21.89208458,\n",
       "       22.77917272, 22.26705093, 19.22053482, 22.67382825, 20.95444516,\n",
       "       22.3146716 , 21.7236998 , 22.29547272, 22.14419047, 19.76694258,\n",
       "       20.07661551, 21.80374348, 22.09376585, 22.43363116, 21.46094162,\n",
       "       22.95254023, 22.87453492, 17.683883  , 22.71244541, 22.61653742,\n",
       "       22.8626138 , 22.10713716, 21.90253678, 21.57187962, 22.13948899,\n",
       "       23.20016466, 22.45367811, 22.4903768 , 22.87905352, 21.72005017,\n",
       "       22.32940422, 22.49309296, 21.76064635, 22.42205429, 22.48058554,\n",
       "       21.65691457, 22.47571281, 22.3072189 , 19.82952877, 22.54652294,\n",
       "       22.13447907, 22.06378515, 22.85854706, 22.24915257, 22.46363298,\n",
       "       22.24232545, 21.33474338, 22.25314792, 22.14826993, 22.47720316,\n",
       "       22.22627703, 22.79816239, 23.3026935 , 22.53916758, 22.29887364,\n",
       "       21.57217081, 22.4951668 , 22.62964366, 21.68780073, 23.01366849,\n",
       "       21.03864783, 22.81253095, 23.20615567, 19.20599388, 23.38417728,\n",
       "       22.55147925, 22.56825206, 22.14341419, 22.01257794, 22.73019458,\n",
       "       21.96514937, 22.65485418, 22.76399115, 19.45470611, 20.952396  ,\n",
       "       21.47422025, 18.92077029, 22.27929829, 22.81711035, 22.75697853,\n",
       "       22.3442308 , 23.07320602, 22.73890316, 22.62498303, 20.80794528,\n",
       "       22.22627703, 22.14638951, 23.02414771, 22.3359835 , 19.89120053,\n",
       "       22.71147263, 23.00062603, 22.66468691, 20.47309671, 21.08839067,\n",
       "       21.12367711, 21.17030091, 22.92918462, 22.35905255, 22.09321775,\n",
       "       20.8542841 , 22.37565341, 22.86534395, 22.79837822, 21.97277031,\n",
       "       22.84898015, 22.05028959, 21.42128356, 22.1133585 , 22.58773867,\n",
       "       22.91426752, 20.81326022, 22.61853578, 20.28176963, 19.09687847,\n",
       "       19.68626807, 20.68866645, 20.48893507, 22.55922025, 19.01935181,\n",
       "       21.37714414, 20.48163816, 21.47575311, 21.7822932 , 22.90140282,\n",
       "       22.48486   , 22.71571315, 22.87681699, 21.77425642, 22.65807708,\n",
       "       21.81721946, 21.94328294, 21.74249672, 22.67726684, 22.26808147,\n",
       "       21.03134961, 23.46487249, 22.14745428, 22.60592673, 20.93339088,\n",
       "       22.37947078, 22.67177977, 22.13196409, 21.64705414, 21.53328885,\n",
       "       21.67572823, 21.36544618, 23.07182969, 22.06124127, 22.64547671,\n",
       "       21.58359506, 19.97199793, 22.36048016, 22.21241074, 22.47296665,\n",
       "       22.66355598, 23.24567773, 22.04152622, 22.45057664, 23.12446211,\n",
       "       19.58105362, 22.51942418, 21.21453365, 22.1802829 , 18.37527647,\n",
       "       22.4252196 , 22.50666868, 21.32435325, 22.96966375, 22.34917941,\n",
       "       22.32343643, 22.55971601, 22.63967426, 19.10072775, 21.45720729,\n",
       "       21.40690278, 21.72660162, 22.39063276, 22.90949588, 23.29711553,\n",
       "       22.63926646, 22.5965248 , 21.99398578, 21.41740084, 22.04912063,\n",
       "       22.15117258, 19.83329845, 20.8306428 , 21.68308718, 21.23979957,\n",
       "       22.65217938, 22.85290959, 22.24361635, 23.07589487, 22.46297958,\n",
       "       22.52848734, 22.7605558 , 21.95278343, 21.30267584, 22.478119  ,\n",
       "       20.81789018, 22.6489516 , 21.40699367, 20.84342682, 22.62102788,\n",
       "       21.63342405, 21.04846229, 22.42169961, 23.02103028, 23.10556496,\n",
       "       22.19413486, 20.70463527, 22.67104037, 22.67800948, 23.1932739 ,\n",
       "       22.1395584 , 21.6190819 , 21.93904851, 22.49226032, 19.97199793,\n",
       "       21.96415602, 21.79636321, 22.23655213, 22.45367811, 22.75372374,\n",
       "       22.32128885, 22.52642738, 22.52052467, 21.43775337, 22.06065814,\n",
       "       22.97215787, 22.40922519, 19.89836782, 21.42691551, 22.63997646,\n",
       "       22.16698815, 23.02012132, 22.73029872, 19.67166394, 19.74548415,\n",
       "       21.63925218, 20.03996253, 22.33910078, 21.02460863, 21.77100325,\n",
       "       20.8746204 , 19.86962824, 23.17683631, 21.97431893, 22.70507316,\n",
       "       22.25609429, 22.46297958, 20.69056879, 21.26684784, 22.53771325,\n",
       "       21.50368632, 22.43363116, 21.3545904 , 20.10975135, 21.07724736,\n",
       "       21.92255987, 22.2769242 , 18.46628811, 22.75697853])"
      ]
     },
     "execution_count": 15,
     "metadata": {},
     "output_type": "execute_result"
    }
   ],
   "source": [
    "# Train \n",
    "random_forest.fit(X_train, y_train)\n",
    "y_pred = random_forest.predict(X_test) \n",
    "y_pred"
   ]
  },
  {
   "cell_type": "code",
   "execution_count": 16,
   "metadata": {
    "ExecuteTime": {
     "end_time": "2021-03-10T21:03:26.292311Z",
     "start_time": "2021-03-10T21:03:26.252418Z"
    }
   },
   "outputs": [
    {
     "data": {
      "text/plain": [
       "0.9361524791825132"
      ]
     },
     "execution_count": 16,
     "metadata": {},
     "output_type": "execute_result"
    }
   ],
   "source": [
    "# R²(interno)\n",
    "score = random_forest.score(X_train, y_train)\n",
    "score"
   ]
  },
  {
   "cell_type": "code",
   "execution_count": 17,
   "metadata": {
    "ExecuteTime": {
     "end_time": "2021-03-10T21:03:28.889088Z",
     "start_time": "2021-03-10T21:03:28.885112Z"
    }
   },
   "outputs": [
    {
     "data": {
      "text/plain": [
       "0.6298704763945004"
      ]
     },
     "execution_count": 17,
     "metadata": {},
     "output_type": "execute_result"
    }
   ],
   "source": [
    "# Q² externo\n",
    "Myanal = Smetrics()\n",
    "Myanal.Q2ext(y_test,y_pred,y_train)"
   ]
  }
 ],
 "metadata": {
  "kernelspec": {
   "display_name": "Python 3",
   "language": "python",
   "name": "python3"
  },
  "language_info": {
   "codemirror_mode": {
    "name": "ipython",
    "version": 3
   },
   "file_extension": ".py",
   "mimetype": "text/x-python",
   "name": "python",
   "nbconvert_exporter": "python",
   "pygments_lexer": "ipython3",
   "version": "3.8.5"
  }
 },
 "nbformat": 4,
 "nbformat_minor": 4
}
